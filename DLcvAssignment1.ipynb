{
  "nbformat": 4,
  "nbformat_minor": 0,
  "metadata": {
    "colab": {
      "provenance": [],
      "authorship_tag": "ABX9TyPA45odQ8VNsG7p7UNnN696",
      "include_colab_link": true
    },
    "kernelspec": {
      "name": "python3",
      "display_name": "Python 3"
    },
    "language_info": {
      "name": "python"
    }
  },
  "cells": [
    {
      "cell_type": "markdown",
      "metadata": {
        "id": "view-in-github",
        "colab_type": "text"
      },
      "source": [
        "<a href=\"https://colab.research.google.com/github/RHITHIKAG/DLCV/blob/main/DLcvAssignment1.ipynb\" target=\"_parent\"><img src=\"https://colab.research.google.com/assets/colab-badge.svg\" alt=\"Open In Colab\"/></a>"
      ]
    },
    {
      "cell_type": "markdown",
      "source": [
        "Implement MLP from scratch & replace the backpropagation algorithm with any of the latest optimization algorithms."
      ],
      "metadata": {
        "id": "j9MzrCm113Ae"
      }
    },
    {
      "cell_type": "code",
      "source": [
        "import numpy as np\n",
        "import matplotlib.pyplot as plt\n",
        "\n",
        "class MLP:\n",
        "    def __init__(self, input_size, hidden_size, output_size, learning_rate=0.01):\n",
        "        self.input_size = input_size\n",
        "        self.hidden_size = hidden_size\n",
        "        self.output_size = output_size\n",
        "        self.learning_rate = learning_rate\n",
        "        self.W1 = np.random.randn(self.input_size, self.hidden_size) / np.sqrt(self.input_size)\n",
        "        self.b1 = np.zeros((1, self.hidden_size))\n",
        "        self.W2 = np.random.randn(self.hidden_size, self.output_size) / np.sqrt(self.hidden_size)\n",
        "        self.b2 = np.zeros((1, self.output_size))\n",
        "        self.loss_history = []\n",
        "    \n",
        "    def relu(self, x):\n",
        "        return np.maximum(0, x)\n",
        "    \n",
        "    def softmax(self, x):\n",
        "        exp_x = np.exp(x)\n",
        "        return exp_x / np.sum(exp_x, axis=1, keepdims=True)\n",
        "    \n",
        "    def forward(self, X):\n",
        "        Z1 = np.dot(X, self.W1) + self.b1\n",
        "        A1 = self.relu(Z1)\n",
        "        Z2 = np.dot(A1, self.W2) + self.b2\n",
        "        A2 = self.softmax(Z2)\n",
        "        return A1, A2\n",
        "    \n",
        "    def backward(self, X, Y, A1, A2):\n",
        "        dZ2 = A2 - Y\n",
        "        dW2 = np.dot(A1.T, dZ2)\n",
        "        db2 = np.sum(dZ2, axis=0, keepdims=True)\n",
        "        dA1 = np.dot(dZ2, self.W2.T)\n",
        "        dZ1 = dA1 * (A1 > 0)\n",
        "        dW1 = np.dot(X.T, dZ1)\n",
        "        db1 = np.sum(dZ1, axis=0, keepdims=True)\n",
        "        return dW1, db1, dW2, db2\n",
        "    \n",
        "    def fit(self, X, Y, epochs=100):\n",
        "        for i in range(epochs):\n",
        "            A1, A2 = self.forward(X)\n",
        "            dW1, db1, dW2, db2 = self.backward(X, Y, A1, A2)\n",
        "            self.W1 -= self.learning_rate * dW1\n",
        "            self.b1 -= self.learning_rate * db1\n",
        "            self.W2 -= self.learning_rate * dW2\n",
        "            self.b2 -= self.learning_rate * db2\n",
        "            loss = self.compute_loss(X, Y)\n",
        "            self.loss_history.append(loss)\n",
        "    \n",
        "    def predict(self, X):\n",
        "        _, A2 = self.forward(X)\n",
        "        return np.argmax(A2, axis=1)\n",
        "    \n",
        "    def compute_loss(self, X, Y):\n",
        "        _, A2 = self.forward(X)\n",
        "        num_samples = X.shape[0]\n",
        "        log_likelihood = -np.log(A2[range(num_samples), Y.argmax(axis=1)])\n",
        "        loss = np.sum(log_likelihood) / num_samples\n",
        "        return loss\n",
        "\n",
        "\n",
        "# Load data\n",
        "from sklearn.datasets import load_iris\n",
        "iris = load_iris()\n",
        "X = iris.data\n",
        "Y = iris.target\n",
        "\n",
        "# Convert target to one-hot encoding\n",
        "num_classes = len(np.unique(Y))\n",
        "Y_one_hot = np.eye(num_classes)[Y]\n",
        "\n",
        "# Split data into training and testing sets\n",
        "from sklearn.model_selection import train_test_split\n",
        "X_train, X_test, Y_train, Y_test = train_test_split(X, Y_one_hot, test_size=0.2, random_state=42)\n",
        "\n",
        "# Create MLP object and train the model\n",
        "mlp = MLP(input_size=X_train.shape[1], hidden_size=64, output_size=num_classes)\n",
        "mlp.fit(X_train, Y_train, epochs=100)\n",
        "\n",
        "# Evaluate the model on test data\n",
        "accuracy = np.mean(np.argmax(Y_test, axis=1) == mlp.predict(X_test))\n",
        "print(f\"Test accuracy: {accuracy:.2f}\")\n",
        "\n"
      ],
      "metadata": {
        "id": "EjHpkXqw9iLh",
        "colab": {
          "base_uri": "https://localhost:8080/"
        },
        "outputId": "a48031fb-56a4-4a2c-8f5b-ad166ff93ef9"
      },
      "execution_count": 1,
      "outputs": [
        {
          "output_type": "stream",
          "name": "stdout",
          "text": [
            "Test accuracy: 0.30\n"
          ]
        }
      ]
    }
  ]
}